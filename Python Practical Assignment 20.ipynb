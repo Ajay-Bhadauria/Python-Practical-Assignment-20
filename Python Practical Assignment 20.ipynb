{
 "cells": [
  {
   "cell_type": "markdown",
   "id": "04241886",
   "metadata": {},
   "source": [
    "Create a function that takes a list of strings and integers, and filters out the list so that it returns a list of integers only"
   ]
  },
  {
   "cell_type": "code",
   "execution_count": 1,
   "id": "688e3e30",
   "metadata": {},
   "outputs": [],
   "source": [
    "def list_onlyint(l):\n",
    "    #l = [1,2,3,4,'ajay']\n",
    "    l1 = [i for i in l if type(i) == int]\n",
    "    return l1\n"
   ]
  },
  {
   "cell_type": "code",
   "execution_count": 2,
   "id": "0ee163af",
   "metadata": {},
   "outputs": [
    {
     "data": {
      "text/plain": [
       "[1, 2, 3, 4, 5, 6, 7, 8, 9]"
      ]
     },
     "execution_count": 2,
     "metadata": {},
     "output_type": "execute_result"
    }
   ],
   "source": [
    "list_onlyint([1,2,3,4,5,'hi',6,7,8,9,'ajay','singh','xyz'])"
   ]
  },
  {
   "cell_type": "code",
   "execution_count": null,
   "id": "7c714951",
   "metadata": {},
   "outputs": [],
   "source": []
  },
  {
   "cell_type": "markdown",
   "id": "d4b0ea09",
   "metadata": {},
   "source": [
    "\n",
    "Given a list of numbers, create a function which returns the list but with each element's index in the list added to itself. This means you add 0 to the number at index 0, add 1 to the number at index 1, etc...\n"
   ]
  },
  {
   "cell_type": "code",
   "execution_count": 3,
   "id": "568b0034",
   "metadata": {},
   "outputs": [],
   "source": [
    "def add_indices(l):\n",
    "    \n",
    "    l1 = [i+l.index(i) for i in l if type(i) == int]\n",
    "    return l1\n",
    "\n"
   ]
  },
  {
   "cell_type": "code",
   "execution_count": 4,
   "id": "67c1e926",
   "metadata": {},
   "outputs": [
    {
     "data": {
      "text/plain": [
       "[0, 2, 4, 6, 9, 72]"
      ]
     },
     "execution_count": 4,
     "metadata": {},
     "output_type": "execute_result"
    }
   ],
   "source": [
    "add_indices([0,1,2,3,5,67, 'ajay'])"
   ]
  },
  {
   "cell_type": "code",
   "execution_count": null,
   "id": "43d2387b",
   "metadata": {},
   "outputs": [],
   "source": []
  },
  {
   "cell_type": "markdown",
   "id": "091d8699",
   "metadata": {},
   "source": [
    "Create a function that takes a list of numbers between 1 and 10 (excluding one number) and returns the missing number."
   ]
  },
  {
   "cell_type": "code",
   "execution_count": 5,
   "id": "98ac0873",
   "metadata": {},
   "outputs": [],
   "source": [
    "def missing_num(l):\n",
    "    \n",
    "    for i in range(1,11):\n",
    "        if i not in l:\n",
    "            print('Missing No in the list is :',i)\n",
    "\n"
   ]
  },
  {
   "cell_type": "code",
   "execution_count": 6,
   "id": "8db0ea0c",
   "metadata": {},
   "outputs": [
    {
     "name": "stdout",
     "output_type": "stream",
     "text": [
      "Missing No in the list is : 3\n"
     ]
    }
   ],
   "source": [
    "missing_num([1,2,4,5,6,7,8,9,10])"
   ]
  },
  {
   "cell_type": "code",
   "execution_count": null,
   "id": "47f9d8f8",
   "metadata": {},
   "outputs": [],
   "source": []
  },
  {
   "cell_type": "markdown",
   "id": "a4d573db",
   "metadata": {},
   "source": [
    "Create a function that takes the height and radius of a cone as arguments and returns the volume of the cone rounded to the nearest hundredth. See the resources tab for the formula."
   ]
  },
  {
   "cell_type": "code",
   "execution_count": 9,
   "id": "0b3b164f",
   "metadata": {},
   "outputs": [],
   "source": [
    "import math\n",
    "def volume_of_cone(r,h):\n",
    "    pi = math.pi\n",
    "\n",
    "    volume = (pi*(r**2)*h)/3\n",
    "    volume_roundoff = round(volume,2)\n",
    "    print(f'Volume of cone with radius {r} and height {h} is {volume_roundoff}')"
   ]
  },
  {
   "cell_type": "code",
   "execution_count": 10,
   "id": "0d73c9de",
   "metadata": {},
   "outputs": [
    {
     "name": "stdout",
     "output_type": "stream",
     "text": [
      "Volume of cone with radius 2 and height 3 is 12.57\n"
     ]
    }
   ],
   "source": [
    "volume_of_cone(2,3)"
   ]
  },
  {
   "cell_type": "code",
   "execution_count": null,
   "id": "94ad5bef",
   "metadata": {},
   "outputs": [],
   "source": []
  },
  {
   "cell_type": "markdown",
   "id": "95f1db8a",
   "metadata": {},
   "source": [
    "This Triangular Number Sequence is generated from a pattern of dots that form a triangle. The first 5 numbers of the sequence, or dots, are: \n",
    "1, 3, 6, 10, 15\n",
    "This means that the first triangle has just one dot, the second one has three dots, the third one has 6 dots and so on.\n",
    "Write a function that gives the number of dots with its corresponding triangle number of the sequence.\n"
   ]
  },
  {
   "cell_type": "code",
   "execution_count": 11,
   "id": "8127ebf0",
   "metadata": {},
   "outputs": [],
   "source": [
    "def triangular_sequence(num):\n",
    "    l = []\n",
    "    n = 0\n",
    "    for i in range(1,num+1):\n",
    "        n += i\n",
    "        l.append(n)\n",
    "\n",
    "    print(f'No of dots in the triangle no. {num} is : {l[-1]}')\n",
    "        "
   ]
  },
  {
   "cell_type": "code",
   "execution_count": 12,
   "id": "66fdf7d5",
   "metadata": {},
   "outputs": [
    {
     "name": "stdout",
     "output_type": "stream",
     "text": [
      "No of dots in the triangle no. 6 is : 21\n"
     ]
    }
   ],
   "source": [
    "triangular_sequence(6)"
   ]
  },
  {
   "cell_type": "code",
   "execution_count": null,
   "id": "d62d054c",
   "metadata": {},
   "outputs": [],
   "source": []
  }
 ],
 "metadata": {
  "kernelspec": {
   "display_name": "Python 3",
   "language": "python",
   "name": "python3"
  },
  "language_info": {
   "codemirror_mode": {
    "name": "ipython",
    "version": 3
   },
   "file_extension": ".py",
   "mimetype": "text/x-python",
   "name": "python",
   "nbconvert_exporter": "python",
   "pygments_lexer": "ipython3",
   "version": "3.8.8"
  }
 },
 "nbformat": 4,
 "nbformat_minor": 5
}
